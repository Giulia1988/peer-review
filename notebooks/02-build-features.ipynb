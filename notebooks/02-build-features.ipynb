{
 "cells": [
  {
   "cell_type": "markdown",
   "metadata": {},
   "source": [
    "# Feature Engineering Notebook\n",
    "\n",
    "Clean and extract features from raw data"
   ]
  },
  {
   "cell_type": "markdown",
   "metadata": {
    "jp-MarkdownHeadingCollapsed": true,
    "pycharm": {
     "name": "#%% md\n"
    },
    "tags": []
   },
   "source": [
    "# Steps\n",
    "\n",
    "1. Split the data into training and test data set\n",
    "1. Clean the data (transform null values)\n",
    "1. Scale necessary attributes (normalization, standardization)\n",
    "1. Save transformed data for model training\n"
   ]
  },
  {
   "cell_type": "markdown",
   "metadata": {},
   "source": [
    "# Import packages"
   ]
  },
  {
   "cell_type": "code",
   "execution_count": 6,
   "metadata": {
    "collapsed": false,
    "jupyter": {
     "outputs_hidden": false
    },
    "pycharm": {
     "name": "#%%\n"
    }
   },
   "outputs": [
    {
     "ename": "SyntaxError",
     "evalue": "invalid syntax (735039495.py, line 1)",
     "output_type": "error",
     "traceback": [
      "\u001b[0;36m  Input \u001b[0;32mIn [6]\u001b[0;36m\u001b[0m\n\u001b[0;31m    pip install xgboost\u001b[0m\n\u001b[0m        ^\u001b[0m\n\u001b[0;31mSyntaxError\u001b[0m\u001b[0;31m:\u001b[0m invalid syntax\n"
     ]
    }
   ],
   "source": [
    "# load data\n",
    "import matplotlib.pyplot\n",
    "\n",
    "# Add directory above current directory to path\n",
    "import sys; sys.path.insert(0, '..')\n",
    "#from submodules.load_data import load_data\n",
    "\n",
    "# data manipulation\n",
    "import pandas as pd\n",
    "\n",
    "# data splitting\n",
    "from sklearn.model_selection import train_test_split\n",
    "\n",
    "# data preprocessing\n",
    "from sklearn.pipeline import Pipeline\n",
    "from sklearn.impute import SimpleImputer\n",
    "from sklearn.preprocessing import StandardScaler\n",
    "from sklearn.preprocessing import MinMaxScaler\n",
    "\n",
    "# model\n",
    "from sklearn import svm\n",
    "from sklearn.neighbors import KNeighborsClassifier\n",
    "from sklearn.ensemble import RandomForestClassifier\n",
    "from sklearn.linear_model import LogisticRegression\n",
    "from sklearn.linear_model import SGDClassifier\n",
    "from sklearn.neural_network import MLPClassifier\n",
    "from sklearn.naive_bayes import GaussianNB\n",
    "from xgboost import XGBClassifier\n",
    "\n",
    "# hyperparameter tuning\n",
    "from sklearn.model_selection import GridSearchCV\n",
    "\n",
    "# k-fold cross validation\n",
    "from sklearn.model_selection import cross_validate\n",
    "\n",
    "# serializing, compressing, and loading the models\n",
    "import joblib\n",
    "\n",
    "# performance\n",
    "from sklearn.metrics import plot_confusion_matrix\n",
    "from sklearn.metrics import plot_precision_recall_curve\n",
    "import matplotlib.pyplot as plt\n",
    "\n",
    "# displaying plots\n",
    "from IPython import display\n",
    "import matplotlib.image as mpimg\n",
    "import glob\n",
    "from skimage.util import montage\n",
    "import numpy as np"
   ]
  },
  {
   "cell_type": "markdown",
   "metadata": {},
   "source": [
    "# Load the data\n",
    "\n",
    "Load semi-colon separated data from disk"
   ]
  },
  {
   "cell_type": "code",
   "execution_count": 10,
   "metadata": {
    "collapsed": false,
    "jupyter": {
     "outputs_hidden": false
    },
    "pycharm": {
     "name": "#%%\n"
    }
   },
   "outputs": [],
   "source": [
    "# load the data using a python function\n",
    "#data = load_data()\n",
    "# without using a python function\n",
    "csv_path = \"../data/raw/dataSepsis.csv\"\n",
    "data = pd.read_csv(csv_path, sep=\";\")"
   ]
  },
  {
   "cell_type": "markdown",
   "metadata": {},
   "source": [
    "# 1. Create Training and Test Dataset\n",
    "> uses scikit-learn\n",
    "\n",
    "Performing this early minimizes generalization and bias you may inadvertently apply to your system.\n",
    "Simply put, a test set of data involves: picking ~20% of the instances randomly and setting them aside.\n",
    "\n",
    "Some considerations for sampling methods that generate the test set:\n",
    "1. you don't want your model to see the entire dataset\n",
    "1. you want to be able to fetch new data for training\n",
    "1. you want to maintain the same percentage of training data against the entire dataset\n",
    "1. you want a representative training dataset (~7% septic positive)\n",
    "\n",
    "https://realpython.com/train-test-split-python-data/"
   ]
  },
  {
   "cell_type": "code",
   "execution_count": 39,
   "metadata": {
    "collapsed": false,
    "jupyter": {
     "outputs_hidden": false
    },
    "pycharm": {
     "name": "#%%\n"
    }
   },
   "outputs": [],
   "source": [
    "# sets 10%/15%/20% of the data aside for testing, sets the random number generate to it always generates the same shuffled indicies\n",
    "# x = 2 dimensional array with inputs\n",
    "# X_train is the training part of the first sequence (x)\n",
    "# X_test is the test part of the first sequence (x)\n",
    "# y = 1 dimensional array with outputs\n",
    "# y_train is the labeled training part of the second sequence\n",
    "# y_test is the labeled test part of the second sequence\n",
    "# axis Whether to drop labels from the index (0 or ‘index’) or columns (1 or ‘columns’)\n",
    "# test_size is the amount of the total dataset to set aside for testing = 10%\n",
    "# random state fixes the randomization so you get the same results each time\n",
    "# Shuffle before the data is split, it is shuffled\n",
    "# stratified splitting keeps the proportion of y values trhough the train and test sets\n",
    "X_train, X_test, y_train, y_test = \\\n",
    "    train_test_split(data.drop([\"Age\", \"Unit1\", \"Unit2\", \"HospAdmTime\", \"ICULOS\", \"Gender\", \"Bilirubin_direct\", \"TroponinI\", \"isSepsis\"], axis=1),\n",
    "    data[\"isSepsis\"], test_size=0.20,\n",
    "    random_state=42, stratify=data[\"isSepsis\"])"
   ]
  },
  {
   "cell_type": "markdown",
   "metadata": {},
   "source": [
    "# 2. Clean the Data\n",
    "Instead of preparing data manually, write functions to:\n",
    "1. reproduce transformations easily on any dataset (e.g., data refresh)\n",
    "1. builds a library of functions to reuse in future projects\n",
    "1. use functions in live stream to transform new data before inferencing\n"
   ]
  },
  {
   "cell_type": "markdown",
   "metadata": {},
   "source": [
    "## Steps\n",
    "1. transform current and future null values\n",
    "1. impute median for missing attributes (>7k)"
   ]
  },
  {
   "cell_type": "markdown",
   "metadata": {},
   "source": [
    "## 2.1 Transform missing values from numeric data"
   ]
  },
  {
   "cell_type": "code",
   "execution_count": 42,
   "metadata": {
    "collapsed": false,
    "jupyter": {
     "outputs_hidden": false
    },
    "pycharm": {
     "name": "#%%\n"
    }
   },
   "outputs": [
    {
     "data": {
      "text/plain": [
       "array([[ 87.  ,  98.5 ,  36.5 , ...,   6.8 , 251.  , 139.  ],\n",
       "       [ 72.  ,  98.  ,  36.8 , ...,   7.5 , 251.  , 150.  ],\n",
       "       [ 72.  ,  99.  ,  36.28, ...,   2.6 , 251.  , 183.  ],\n",
       "       ...,\n",
       "       [ 72.  ,  95.  ,  36.8 , ...,   6.2 , 251.  , 107.  ],\n",
       "       [ 78.5 , 100.  ,  36.65, ...,  11.1 , 251.  , 173.  ],\n",
       "       [ 64.  , 100.  ,  36.22, ...,  10.  , 251.  , 339.  ]])"
      ]
     },
     "execution_count": 42,
     "metadata": {},
     "output_type": "execute_result"
    }
   ],
   "source": [
    "# create simpleimputer instance\n",
    "# replace attributes missing values with median of the attribute\n",
    "imputer = SimpleImputer(strategy=\"median\")\n",
    "\n",
    "# fit applies the imputer to ALL numeric data in case new data includes null values\n",
    "# when system goes live\n",
    "# results are stored in a imputer.statistics_ value\n",
    "imputer.fit_transform(X_train)"
   ]
  },
  {
   "cell_type": "code",
   "execution_count": 43,
   "metadata": {
    "collapsed": false,
    "jupyter": {
     "outputs_hidden": false
    },
    "pycharm": {
     "name": "#%%\n"
    }
   },
   "outputs": [
    {
     "data": {
      "text/html": [
       "<div>\n",
       "<style scoped>\n",
       "    .dataframe tbody tr th:only-of-type {\n",
       "        vertical-align: middle;\n",
       "    }\n",
       "\n",
       "    .dataframe tbody tr th {\n",
       "        vertical-align: top;\n",
       "    }\n",
       "\n",
       "    .dataframe thead th {\n",
       "        text-align: right;\n",
       "    }\n",
       "</style>\n",
       "<table border=\"1\" class=\"dataframe\">\n",
       "  <thead>\n",
       "    <tr style=\"text-align: right;\">\n",
       "      <th></th>\n",
       "      <th>HR</th>\n",
       "      <th>O2Sat</th>\n",
       "      <th>Temp</th>\n",
       "      <th>SBP</th>\n",
       "      <th>MAP</th>\n",
       "      <th>DBP</th>\n",
       "      <th>Resp</th>\n",
       "      <th>EtCO2</th>\n",
       "      <th>BaseExcess</th>\n",
       "      <th>HCO3</th>\n",
       "      <th>...</th>\n",
       "      <th>Magnesium</th>\n",
       "      <th>Phosphate</th>\n",
       "      <th>Potassium</th>\n",
       "      <th>Bilirubin_total</th>\n",
       "      <th>Hct</th>\n",
       "      <th>Hgb</th>\n",
       "      <th>PTT</th>\n",
       "      <th>WBC</th>\n",
       "      <th>Fibrinogen</th>\n",
       "      <th>Platelets</th>\n",
       "    </tr>\n",
       "  </thead>\n",
       "  <tbody>\n",
       "    <tr>\n",
       "      <th>26908</th>\n",
       "      <td>87.0</td>\n",
       "      <td>98.5</td>\n",
       "      <td>36.50</td>\n",
       "      <td>108.0</td>\n",
       "      <td>73.00</td>\n",
       "      <td>63.0</td>\n",
       "      <td>16.5</td>\n",
       "      <td>33.0</td>\n",
       "      <td>0.0</td>\n",
       "      <td>24.0</td>\n",
       "      <td>...</td>\n",
       "      <td>1.8</td>\n",
       "      <td>3.4</td>\n",
       "      <td>4.2</td>\n",
       "      <td>0.8</td>\n",
       "      <td>27.5</td>\n",
       "      <td>8.7</td>\n",
       "      <td>30.7</td>\n",
       "      <td>6.8</td>\n",
       "      <td>251.0</td>\n",
       "      <td>139.0</td>\n",
       "    </tr>\n",
       "    <tr>\n",
       "      <th>5174</th>\n",
       "      <td>72.0</td>\n",
       "      <td>98.0</td>\n",
       "      <td>36.80</td>\n",
       "      <td>145.0</td>\n",
       "      <td>86.33</td>\n",
       "      <td>62.0</td>\n",
       "      <td>17.0</td>\n",
       "      <td>33.0</td>\n",
       "      <td>0.0</td>\n",
       "      <td>25.0</td>\n",
       "      <td>...</td>\n",
       "      <td>1.6</td>\n",
       "      <td>3.4</td>\n",
       "      <td>3.9</td>\n",
       "      <td>0.5</td>\n",
       "      <td>29.2</td>\n",
       "      <td>9.6</td>\n",
       "      <td>30.7</td>\n",
       "      <td>7.5</td>\n",
       "      <td>251.0</td>\n",
       "      <td>150.0</td>\n",
       "    </tr>\n",
       "    <tr>\n",
       "      <th>15997</th>\n",
       "      <td>72.0</td>\n",
       "      <td>99.0</td>\n",
       "      <td>36.28</td>\n",
       "      <td>96.0</td>\n",
       "      <td>70.00</td>\n",
       "      <td>62.0</td>\n",
       "      <td>14.0</td>\n",
       "      <td>33.0</td>\n",
       "      <td>0.0</td>\n",
       "      <td>24.0</td>\n",
       "      <td>...</td>\n",
       "      <td>2.2</td>\n",
       "      <td>3.1</td>\n",
       "      <td>3.7</td>\n",
       "      <td>0.8</td>\n",
       "      <td>28.8</td>\n",
       "      <td>10.0</td>\n",
       "      <td>30.7</td>\n",
       "      <td>2.6</td>\n",
       "      <td>251.0</td>\n",
       "      <td>183.0</td>\n",
       "    </tr>\n",
       "    <tr>\n",
       "      <th>13058</th>\n",
       "      <td>76.5</td>\n",
       "      <td>100.0</td>\n",
       "      <td>35.55</td>\n",
       "      <td>102.0</td>\n",
       "      <td>64.00</td>\n",
       "      <td>49.0</td>\n",
       "      <td>14.0</td>\n",
       "      <td>33.0</td>\n",
       "      <td>0.0</td>\n",
       "      <td>24.0</td>\n",
       "      <td>...</td>\n",
       "      <td>2.0</td>\n",
       "      <td>3.4</td>\n",
       "      <td>5.2</td>\n",
       "      <td>0.8</td>\n",
       "      <td>26.2</td>\n",
       "      <td>8.9</td>\n",
       "      <td>66.1</td>\n",
       "      <td>36.0</td>\n",
       "      <td>251.0</td>\n",
       "      <td>79.0</td>\n",
       "    </tr>\n",
       "    <tr>\n",
       "      <th>23132</th>\n",
       "      <td>68.0</td>\n",
       "      <td>95.0</td>\n",
       "      <td>36.60</td>\n",
       "      <td>119.0</td>\n",
       "      <td>92.00</td>\n",
       "      <td>80.0</td>\n",
       "      <td>20.0</td>\n",
       "      <td>33.0</td>\n",
       "      <td>0.0</td>\n",
       "      <td>24.0</td>\n",
       "      <td>...</td>\n",
       "      <td>1.8</td>\n",
       "      <td>3.4</td>\n",
       "      <td>3.4</td>\n",
       "      <td>0.8</td>\n",
       "      <td>43.6</td>\n",
       "      <td>15.3</td>\n",
       "      <td>30.7</td>\n",
       "      <td>10.7</td>\n",
       "      <td>251.0</td>\n",
       "      <td>219.0</td>\n",
       "    </tr>\n",
       "  </tbody>\n",
       "</table>\n",
       "<p>5 rows × 32 columns</p>\n",
       "</div>"
      ],
      "text/plain": [
       "         HR  O2Sat   Temp    SBP    MAP   DBP  Resp  EtCO2  BaseExcess  HCO3  \\\n",
       "26908  87.0   98.5  36.50  108.0  73.00  63.0  16.5   33.0         0.0  24.0   \n",
       "5174   72.0   98.0  36.80  145.0  86.33  62.0  17.0   33.0         0.0  25.0   \n",
       "15997  72.0   99.0  36.28   96.0  70.00  62.0  14.0   33.0         0.0  24.0   \n",
       "13058  76.5  100.0  35.55  102.0  64.00  49.0  14.0   33.0         0.0  24.0   \n",
       "23132  68.0   95.0  36.60  119.0  92.00  80.0  20.0   33.0         0.0  24.0   \n",
       "\n",
       "       ...  Magnesium  Phosphate  Potassium  Bilirubin_total   Hct   Hgb  \\\n",
       "26908  ...        1.8        3.4        4.2              0.8  27.5   8.7   \n",
       "5174   ...        1.6        3.4        3.9              0.5  29.2   9.6   \n",
       "15997  ...        2.2        3.1        3.7              0.8  28.8  10.0   \n",
       "13058  ...        2.0        3.4        5.2              0.8  26.2   8.9   \n",
       "23132  ...        1.8        3.4        3.4              0.8  43.6  15.3   \n",
       "\n",
       "        PTT   WBC  Fibrinogen  Platelets  \n",
       "26908  30.7   6.8       251.0      139.0  \n",
       "5174   30.7   7.5       251.0      150.0  \n",
       "15997  30.7   2.6       251.0      183.0  \n",
       "13058  66.1  36.0       251.0       79.0  \n",
       "23132  30.7  10.7       251.0      219.0  \n",
       "\n",
       "[5 rows x 32 columns]"
      ]
     },
     "execution_count": 43,
     "metadata": {},
     "output_type": "execute_result"
    }
   ],
   "source": [
    "# apply the trained imputer to transform the training set replacing the\n",
    "# missing values with learn medians\n",
    "N = imputer.transform(X_train)\n",
    "# result above is plain NumPy array with transformed features\n",
    "# put back to a pandas DataFrame\n",
    "M = pd.DataFrame(N, columns=X_train.columns, index=X_train.index)\n",
    "M.head()"
   ]
  },
  {
   "cell_type": "markdown",
   "metadata": {
    "pycharm": {
     "name": "#%% md\n"
    }
   },
   "source": [
    "# 3 Feature Scaling\n",
    "1. ML algorithms don't work well when numeric attributes have very different scales\n",
    "    (e.g. HR max 184,  pH max 7.67)\n",
    "1. Scaling target values is not necessary\n",
    "1. Apply\n",
    "    1. normalization (MinMaxScaler) bounds the values to a specific range (e.g. 0-1)\n",
    "    1. standardization (StandardScaler) less affected by outliers does not bound to range"
   ]
  },
  {
   "cell_type": "code",
   "execution_count": 50,
   "metadata": {
    "collapsed": false,
    "jupyter": {
     "outputs_hidden": false
    },
    "pycharm": {
     "name": "#%%\n"
    }
   },
   "outputs": [
    {
     "data": {
      "text/html": [
       "<div>\n",
       "<style scoped>\n",
       "    .dataframe tbody tr th:only-of-type {\n",
       "        vertical-align: middle;\n",
       "    }\n",
       "\n",
       "    .dataframe tbody tr th {\n",
       "        vertical-align: top;\n",
       "    }\n",
       "\n",
       "    .dataframe thead th {\n",
       "        text-align: right;\n",
       "    }\n",
       "</style>\n",
       "<table border=\"1\" class=\"dataframe\">\n",
       "  <thead>\n",
       "    <tr style=\"text-align: right;\">\n",
       "      <th></th>\n",
       "      <th>HR</th>\n",
       "      <th>O2Sat</th>\n",
       "      <th>Temp</th>\n",
       "      <th>SBP</th>\n",
       "      <th>MAP</th>\n",
       "      <th>DBP</th>\n",
       "      <th>Resp</th>\n",
       "      <th>EtCO2</th>\n",
       "      <th>BaseExcess</th>\n",
       "      <th>HCO3</th>\n",
       "      <th>...</th>\n",
       "      <th>Magnesium</th>\n",
       "      <th>Phosphate</th>\n",
       "      <th>Potassium</th>\n",
       "      <th>Bilirubin_total</th>\n",
       "      <th>Hct</th>\n",
       "      <th>Hgb</th>\n",
       "      <th>PTT</th>\n",
       "      <th>WBC</th>\n",
       "      <th>Fibrinogen</th>\n",
       "      <th>Platelets</th>\n",
       "    </tr>\n",
       "  </thead>\n",
       "  <tbody>\n",
       "    <tr>\n",
       "      <th>26908</th>\n",
       "      <td>0.199062</td>\n",
       "      <td>0.374434</td>\n",
       "      <td>-0.527378</td>\n",
       "      <td>-0.641028</td>\n",
       "      <td>-0.551583</td>\n",
       "      <td>-0.028341</td>\n",
       "      <td>-0.318226</td>\n",
       "      <td>0.013681</td>\n",
       "      <td>0.03009</td>\n",
       "      <td>-0.042334</td>\n",
       "      <td>...</td>\n",
       "      <td>-0.607165</td>\n",
       "      <td>-0.107243</td>\n",
       "      <td>0.185125</td>\n",
       "      <td>-0.117318</td>\n",
       "      <td>-0.855207</td>\n",
       "      <td>-1.106481</td>\n",
       "      <td>-0.173873</td>\n",
       "      <td>-0.645006</td>\n",
       "      <td>-0.065903</td>\n",
       "      <td>-0.709709</td>\n",
       "    </tr>\n",
       "    <tr>\n",
       "      <th>5174</th>\n",
       "      <td>-0.669441</td>\n",
       "      <td>0.192386</td>\n",
       "      <td>-0.019029</td>\n",
       "      <td>0.998721</td>\n",
       "      <td>0.252568</td>\n",
       "      <td>-0.109121</td>\n",
       "      <td>-0.215282</td>\n",
       "      <td>0.013681</td>\n",
       "      <td>0.03009</td>\n",
       "      <td>0.308687</td>\n",
       "      <td>...</td>\n",
       "      <td>-1.216605</td>\n",
       "      <td>-0.107243</td>\n",
       "      <td>-0.318210</td>\n",
       "      <td>-0.289078</td>\n",
       "      <td>-0.540252</td>\n",
       "      <td>-0.625355</td>\n",
       "      <td>-0.173873</td>\n",
       "      <td>-0.537316</td>\n",
       "      <td>-0.065903</td>\n",
       "      <td>-0.594803</td>\n",
       "    </tr>\n",
       "    <tr>\n",
       "      <th>15997</th>\n",
       "      <td>-0.669441</td>\n",
       "      <td>0.556483</td>\n",
       "      <td>-0.900167</td>\n",
       "      <td>-1.172838</td>\n",
       "      <td>-0.732562</td>\n",
       "      <td>-0.109121</td>\n",
       "      <td>-0.832944</td>\n",
       "      <td>0.013681</td>\n",
       "      <td>0.03009</td>\n",
       "      <td>-0.042334</td>\n",
       "      <td>...</td>\n",
       "      <td>0.611715</td>\n",
       "      <td>-0.403405</td>\n",
       "      <td>-0.653767</td>\n",
       "      <td>-0.117318</td>\n",
       "      <td>-0.614359</td>\n",
       "      <td>-0.411521</td>\n",
       "      <td>-0.173873</td>\n",
       "      <td>-1.291144</td>\n",
       "      <td>-0.065903</td>\n",
       "      <td>-0.250085</td>\n",
       "    </tr>\n",
       "    <tr>\n",
       "      <th>13058</th>\n",
       "      <td>-0.408890</td>\n",
       "      <td>0.920580</td>\n",
       "      <td>-2.137151</td>\n",
       "      <td>-0.906933</td>\n",
       "      <td>-1.094521</td>\n",
       "      <td>-1.159260</td>\n",
       "      <td>-0.832944</td>\n",
       "      <td>0.013681</td>\n",
       "      <td>0.03009</td>\n",
       "      <td>-0.042334</td>\n",
       "      <td>...</td>\n",
       "      <td>0.002275</td>\n",
       "      <td>-0.107243</td>\n",
       "      <td>1.862907</td>\n",
       "      <td>-0.117318</td>\n",
       "      <td>-1.096055</td>\n",
       "      <td>-0.999564</td>\n",
       "      <td>2.313841</td>\n",
       "      <td>3.847193</td>\n",
       "      <td>-0.065903</td>\n",
       "      <td>-1.336469</td>\n",
       "    </tr>\n",
       "    <tr>\n",
       "      <th>23132</th>\n",
       "      <td>-0.901042</td>\n",
       "      <td>-0.899906</td>\n",
       "      <td>-0.357928</td>\n",
       "      <td>-0.153535</td>\n",
       "      <td>0.594619</td>\n",
       "      <td>1.344918</td>\n",
       "      <td>0.402379</td>\n",
       "      <td>0.013681</td>\n",
       "      <td>0.03009</td>\n",
       "      <td>-0.042334</td>\n",
       "      <td>...</td>\n",
       "      <td>-0.607165</td>\n",
       "      <td>-0.107243</td>\n",
       "      <td>-1.157101</td>\n",
       "      <td>-0.117318</td>\n",
       "      <td>2.127604</td>\n",
       "      <td>2.421778</td>\n",
       "      <td>-0.173873</td>\n",
       "      <td>-0.045021</td>\n",
       "      <td>-0.065903</td>\n",
       "      <td>0.125971</td>\n",
       "    </tr>\n",
       "  </tbody>\n",
       "</table>\n",
       "<p>5 rows × 32 columns</p>\n",
       "</div>"
      ],
      "text/plain": [
       "             HR     O2Sat      Temp       SBP       MAP       DBP      Resp  \\\n",
       "26908  0.199062  0.374434 -0.527378 -0.641028 -0.551583 -0.028341 -0.318226   \n",
       "5174  -0.669441  0.192386 -0.019029  0.998721  0.252568 -0.109121 -0.215282   \n",
       "15997 -0.669441  0.556483 -0.900167 -1.172838 -0.732562 -0.109121 -0.832944   \n",
       "13058 -0.408890  0.920580 -2.137151 -0.906933 -1.094521 -1.159260 -0.832944   \n",
       "23132 -0.901042 -0.899906 -0.357928 -0.153535  0.594619  1.344918  0.402379   \n",
       "\n",
       "          EtCO2  BaseExcess      HCO3  ...  Magnesium  Phosphate  Potassium  \\\n",
       "26908  0.013681     0.03009 -0.042334  ...  -0.607165  -0.107243   0.185125   \n",
       "5174   0.013681     0.03009  0.308687  ...  -1.216605  -0.107243  -0.318210   \n",
       "15997  0.013681     0.03009 -0.042334  ...   0.611715  -0.403405  -0.653767   \n",
       "13058  0.013681     0.03009 -0.042334  ...   0.002275  -0.107243   1.862907   \n",
       "23132  0.013681     0.03009 -0.042334  ...  -0.607165  -0.107243  -1.157101   \n",
       "\n",
       "       Bilirubin_total       Hct       Hgb       PTT       WBC  Fibrinogen  \\\n",
       "26908        -0.117318 -0.855207 -1.106481 -0.173873 -0.645006   -0.065903   \n",
       "5174         -0.289078 -0.540252 -0.625355 -0.173873 -0.537316   -0.065903   \n",
       "15997        -0.117318 -0.614359 -0.411521 -0.173873 -1.291144   -0.065903   \n",
       "13058        -0.117318 -1.096055 -0.999564  2.313841  3.847193   -0.065903   \n",
       "23132        -0.117318  2.127604  2.421778 -0.173873 -0.045021   -0.065903   \n",
       "\n",
       "       Platelets  \n",
       "26908  -0.709709  \n",
       "5174   -0.594803  \n",
       "15997  -0.250085  \n",
       "13058  -1.336469  \n",
       "23132   0.125971  \n",
       "\n",
       "[5 rows x 32 columns]"
      ]
     },
     "execution_count": 50,
     "metadata": {},
     "output_type": "execute_result"
    }
   ],
   "source": [
    "scaler = StandardScaler()\n",
    "\n",
    "O = scaler.fit_transform(N)\n",
    "P = pd.DataFrame(O, columns=X_train.columns, index=X_train.index)\n",
    "P.head()"
   ]
  },
  {
   "cell_type": "markdown",
   "metadata": {},
   "source": [
    "## 3.1 Transformation Pipeline\n",
    "\n",
    "Common to apply many transformation steps in a specific order (fill the nulls before you apply the scaling)"
   ]
  },
  {
   "cell_type": "code",
   "execution_count": 51,
   "metadata": {
    "collapsed": false,
    "jupyter": {
     "outputs_hidden": false
    },
    "pycharm": {
     "name": "#%%\n"
    }
   },
   "outputs": [],
   "source": [
    "# this pipeline should work for all the estimators/algorithms\n",
    "pipeline = Pipeline([\n",
    "                    ('imputer', SimpleImputer(strategy='median')),\n",
    "                    ('std_scaler', StandardScaler()),\n",
    "                    ])"
   ]
  },
  {
   "cell_type": "code",
   "execution_count": 52,
   "metadata": {
    "collapsed": false,
    "jupyter": {
     "outputs_hidden": false
    },
    "pycharm": {
     "name": "#%%\n"
    }
   },
   "outputs": [],
   "source": [
    "# this is the transformed data to train from\n",
    "X_train_prepared = pipeline.fit_transform(X_train)"
   ]
  },
  {
   "cell_type": "code",
   "execution_count": 53,
   "metadata": {
    "collapsed": false,
    "jupyter": {
     "outputs_hidden": false
    },
    "pycharm": {
     "name": "#%%\n"
    }
   },
   "outputs": [],
   "source": [
    "# neural networks sometimes expect a 0-1 normalized scale and perform better\n",
    "pipeline_minmax = Pipeline([\n",
    "                    ('imputer', SimpleImputer(strategy='median')),\n",
    "                    ('minMax', MinMaxScaler()),\n",
    "                    ])"
   ]
  },
  {
   "cell_type": "code",
   "execution_count": 56,
   "metadata": {
    "collapsed": false,
    "jupyter": {
     "outputs_hidden": false
    },
    "pycharm": {
     "name": "#%%\n"
    }
   },
   "outputs": [],
   "source": [
    "# this is the transformed data to train the MLP from\n",
    "X_train_prepared_m = pipeline_minmax.fit_transform(X_train)\n"
   ]
  },
  {
   "cell_type": "markdown",
   "metadata": {},
   "source": [
    "# 4. Save the data for model training\n",
    "\n",
    "Common to apply many transformation steps in a specific order (fill the nulls before you apply the scaling)"
   ]
  },
  {
   "cell_type": "code",
   "execution_count": 57,
   "metadata": {
    "collapsed": false,
    "jupyter": {
     "outputs_hidden": false
    },
    "pycharm": {
     "name": "#%%\n"
    }
   },
   "outputs": [],
   "source": [
    "# compress and save the pipeline\n",
    "joblib.dump(pipeline, \"../data/transform/pipeline.pkl\")\n",
    "joblib.dump(pipeline_minmax, \"../data/transform/pipeline_minmax.pkl\")\n",
    "\n",
    "#Save the transformed data into data/transform folder\n",
    "\n",
    "np.savetxt(\"../data/transform/X_train_prepared_m.csv\", X_train_prepared_m, delimiter=\",\")\n",
    "np.savetxt(\"../data/transform/X_train_prepared.csv\", X_train_prepared, delimiter=\",\")\n",
    "np.savetxt(\"../data/transform/X_train.csv\", X_train, delimiter=\",\")\n",
    "np.savetxt(\"../data/transform/X_test.csv\", X_test, delimiter=\",\")\n",
    "np.savetxt(\"../data/transform/y_train.csv\", y_train, delimiter=\",\")\n",
    "np.savetxt(\"../data/transform/y_test.csv\", y_test, delimiter=\",\")\n"
   ]
  }
 ],
 "metadata": {
  "kernelspec": {
   "display_name": "Python 3 (ipykernel)",
   "language": "python",
   "name": "python3"
  },
  "language_info": {
   "codemirror_mode": {
    "name": "ipython",
    "version": 3
   },
   "file_extension": ".py",
   "mimetype": "text/x-python",
   "name": "python",
   "nbconvert_exporter": "python",
   "pygments_lexer": "ipython3",
   "version": "3.8.8"
  }
 },
 "nbformat": 4,
 "nbformat_minor": 4
}
