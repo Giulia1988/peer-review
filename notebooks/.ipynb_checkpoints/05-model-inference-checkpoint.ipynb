{
 "cells": [
  {
   "cell_type": "markdown",
   "metadata": {},
   "source": [
    "# Model Inference Notebook\n",
    "\n",
    "Use the trained model for prediction on new data"
   ]
  },
  {
   "cell_type": "markdown",
   "metadata": {
    "jp-MarkdownHeadingCollapsed": true,
    "pycharm": {
     "name": "#%% md\n"
    },
    "tags": []
   },
   "source": [
    "# Steps\n",
    "\n",
    "1. Split the data into training and test data set\n",
    "1. Clean the data (transform null values)\n",
    "1. Scale necessary attributes (normalization, standardization)\n",
    "1. Save transformed data for model training\n"
   ]
  },
  {
   "cell_type": "markdown",
   "metadata": {},
   "source": [
    "# Class to load model and run prediction"
   ]
  },
  {
   "cell_type": "code",
   "execution_count": 3,
   "metadata": {
    "collapsed": false,
    "jupyter": {
     "outputs_hidden": false
    },
    "pycharm": {
     "name": "#%%\n"
    }
   },
   "outputs": [],
   "source": [
    "import pandas as pd\n",
    "import logging\n",
    "import joblib\n",
    "biomarkers = None\n",
    "pipeline = None\n",
    "model = None\n",
    "import os\n",
    "import shutil\n",
    "\n",
    "def transformAndPredict(raw, pipeline, model, dropNonBioMarkers = True) :\n",
    "    print (\"predict\")\n",
    "    # dropping non-bio markers\n",
    "    if dropNonBioMarkers :\n",
    "        dropped = raw.drop(\n",
    "        [\"Age\", \"Unit1\", \"Unit2\", \"HospAdmTime\", \"ICULOS\", \"Gender\", \"Bilirubin_direct\", \"TroponinI\", \"isSepsis\"],\n",
    "          axis=1)\n",
    "    else :\n",
    "        dropped = raw\n",
    "\n",
    "    # perform inference and predict\n",
    "    transformed = pipeline.transform(dropped)\n",
    "    prediction = model.predict(transformed)\n",
    "    results = pd.DataFrame(prediction)\n",
    "    results.columns = [\"issepsis\"]\n",
    "\n",
    "    return results\n"
   ]
  },
  {
   "cell_type": "markdown",
   "metadata": {},
   "source": [
    "# Load data and run prediction\n",
    "\n",
    "Load semi-colon separated data from disk"
   ]
  },
  {
   "cell_type": "code",
   "execution_count": 4,
   "metadata": {
    "collapsed": false,
    "jupyter": {
     "outputs_hidden": false
    },
    "pycharm": {
     "name": "#%%\n"
    }
   },
   "outputs": [
    {
     "name": "stdout",
     "output_type": "stream",
     "text": [
      "predict\n",
      "       HR  O2Sat   Temp    SBP     MAP   DBP  Resp  EtCO2  BaseExcess  HCO3  \\\n",
      "0   103.0   90.0    NaN    NaN     NaN   NaN  30.0    NaN        21.0  45.0   \n",
      "1    58.0   95.0  36.11  143.0   77.00  47.0  11.0    NaN         NaN  22.0   \n",
      "2    91.0   94.0  38.50  133.0   74.00  48.0  34.0    NaN         NaN  31.0   \n",
      "3    92.0  100.0    NaN    NaN     NaN   NaN   NaN    NaN         NaN  29.0   \n",
      "4   155.5   94.5    NaN  147.5  102.00   NaN  33.0    NaN       -12.0  13.0   \n",
      "5    73.0   99.0  36.06  100.0   67.00  49.5  16.5    NaN        -8.0  16.0   \n",
      "6     NaN    NaN    NaN    NaN     NaN   NaN   NaN    NaN         0.0  25.0   \n",
      "7    82.0  100.0  35.50  112.0   79.50  63.0  14.0    NaN         0.0  23.0   \n",
      "8    89.0  100.0    NaN  141.0   85.00  57.0  17.0    NaN         1.0  25.0   \n",
      "9   100.0   95.0  37.28  121.0   20.00   NaN   NaN    NaN         NaN  22.0   \n",
      "10   95.0  100.0    NaN   89.0   62.33   NaN  18.0    NaN         NaN  22.0   \n",
      "11   86.0   96.0  38.00  111.0   66.00  49.0  17.0    NaN         1.0  27.0   \n",
      "12   88.0  100.0  36.30   99.0   66.00  52.0  16.0    NaN        -3.0  20.0   \n",
      "13  116.0   97.0  38.28  200.0  108.00  90.0  24.0    NaN         6.0   NaN   \n",
      "14  110.0   99.0  36.40  116.0  219.00  66.0  19.0    NaN        -8.0  19.0   \n",
      "15   54.0   95.0    NaN  103.0   63.00   NaN  11.0    NaN         NaN  30.0   \n",
      "16   98.0   94.0    NaN   95.0   62.00  45.0  15.0    NaN         NaN  26.0   \n",
      "17   72.0   96.0    NaN  103.0   62.00  45.0  20.0    NaN        -1.0   NaN   \n",
      "18    NaN    NaN    NaN    NaN     NaN   NaN   NaN    NaN         NaN  24.0   \n",
      "\n",
      "    ...  Magnesium  Phosphate  Potassium  Bilirubin_total   Hct   Hgb   PTT  \\\n",
      "0   ...        2.0        3.3        3.8              0.3  37.2  12.5   NaN   \n",
      "1   ...        2.5        4.4        5.1              NaN  27.8   9.7   NaN   \n",
      "2   ...        2.4        2.3        3.8              NaN  26.2   8.8  30.5   \n",
      "3   ...        NaN        NaN        3.8              NaN  36.9  12.2   NaN   \n",
      "4   ...        1.9        3.8        4.6              1.4  45.0  15.8  26.6   \n",
      "5   ...        1.8        3.5        4.5              NaN  32.9  11.4   NaN   \n",
      "6   ...        NaN        NaN        4.0              NaN  30.0   9.9   NaN   \n",
      "7   ...        NaN        NaN        3.9              NaN  27.9   9.5  29.9   \n",
      "8   ...        2.5        2.2        3.5              NaN  32.2  11.2   NaN   \n",
      "9   ...        1.9        2.9        3.9              NaN  26.5   9.0  25.8   \n",
      "10  ...        1.4        2.4        4.1              0.5  31.0  10.5  37.7   \n",
      "11  ...        2.0        2.8        4.3              NaN  32.5  11.4  34.0   \n",
      "12  ...        NaN        NaN        4.6              NaN  29.7  10.5  32.5   \n",
      "13  ...        NaN        NaN        NaN              NaN   NaN   NaN   NaN   \n",
      "14  ...        1.9        NaN        4.9              NaN  30.0  10.1   NaN   \n",
      "15  ...        2.3        4.3        4.5              NaN  35.9   NaN  26.4   \n",
      "16  ...        2.0        2.9        4.1              0.6  27.9   9.9  36.2   \n",
      "17  ...        NaN        NaN        NaN              NaN   NaN   NaN   NaN   \n",
      "18  ...        2.5       10.5        6.1              NaN  34.7  11.1  30.3   \n",
      "\n",
      "     WBC  Fibrinogen  Platelets  \n",
      "0    5.7         NaN      317.0  \n",
      "1   11.0         NaN      158.0  \n",
      "2    8.3         NaN      465.0  \n",
      "3   12.0         NaN      298.0  \n",
      "4    9.3         NaN       26.0  \n",
      "5   11.4         NaN      357.0  \n",
      "6    NaN         NaN        NaN  \n",
      "7    8.7         NaN      115.0  \n",
      "8   10.6         NaN      184.0  \n",
      "9    7.3         NaN      127.0  \n",
      "10  12.7         NaN      315.0  \n",
      "11  14.7         NaN      140.0  \n",
      "12  12.1         NaN      202.0  \n",
      "13   NaN         NaN        NaN  \n",
      "14   NaN         NaN        NaN  \n",
      "15   9.3         NaN      221.0  \n",
      "16  15.2         NaN      205.0  \n",
      "17   NaN         NaN        NaN  \n",
      "18  12.5         NaN      561.0  \n",
      "\n",
      "[19 rows x 32 columns]\n",
      "    issepsis\n",
      "0        0.0\n",
      "1        0.0\n",
      "2        0.0\n",
      "3        0.0\n",
      "4        0.0\n",
      "5        0.0\n",
      "6        1.0\n",
      "7        0.0\n",
      "8        1.0\n",
      "9        0.0\n",
      "10       0.0\n",
      "11       0.0\n",
      "12       0.0\n",
      "13       1.0\n",
      "14       0.0\n",
      "15       0.0\n",
      "16       0.0\n",
      "17       1.0\n",
      "18       0.0\n"
     ]
    }
   ],
   "source": [
    "import configparser\n",
    "\n",
    "settings = configparser.ConfigParser()\n",
    "settings._interpolation = configparser.ExtendedInterpolation()\n",
    "settings.read('../config')\n",
    "settings.sections()\n",
    "\n",
    "#path to data folder\n",
    "version = settings.get('Run', 'version')\n",
    "\n",
    "#Prepare data directory for current run\n",
    "data_path = \"../\" + settings.get('Path', 'data') + \"run_\" + version\n",
    "transform_path = data_path + \"/transform/\"\n",
    "model_path = \"../\" + settings.get('Path', 'models') + \"run_\" + version\n",
    "\n",
    "   \n",
    "#Load the data to run prediction on, model and pipeline\n",
    "input_data = pd.read_csv(\"../\" + settings.get('Data', 'in'), sep=\",\")\n",
    "pipeline = joblib.load(transform_path + \"/pipeline.pkl\")\n",
    "model = joblib.load(model_path + \"/final/rfc_model.pkl\")\n",
    "\n",
    "        \n",
    "# Run prediction\n",
    "results = transformAndPredict(input_data, pipeline, model, dropNonBioMarkers = True )\n",
    "\n",
    "# print results\n",
    "for index, row in results.iterrows():\n",
    "    issepsis = row[\"issepsis\"]\n",
    "print(results)\n"
   ]
  },
  {
   "cell_type": "code",
   "execution_count": null,
   "metadata": {},
   "outputs": [],
   "source": []
  },
  {
   "cell_type": "code",
   "execution_count": null,
   "metadata": {},
   "outputs": [],
   "source": []
  }
 ],
 "metadata": {
  "kernelspec": {
   "display_name": "Python 3 (ipykernel)",
   "language": "python",
   "name": "python3"
  },
  "language_info": {
   "codemirror_mode": {
    "name": "ipython",
    "version": 3
   },
   "file_extension": ".py",
   "mimetype": "text/x-python",
   "name": "python",
   "nbconvert_exporter": "python",
   "pygments_lexer": "ipython3",
   "version": "3.8.8"
  }
 },
 "nbformat": 4,
 "nbformat_minor": 4
}
