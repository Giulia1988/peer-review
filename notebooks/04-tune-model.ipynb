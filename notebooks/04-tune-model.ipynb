{
 "cells": [
  {
   "cell_type": "markdown",
   "metadata": {},
   "source": [
    "# XGBoost Classification Model\n",
    "\n",
    "> you must run the data-science.ipynb first in order to get the experimental model\n",
    "\n",
    "# Import packages"
   ]
  },
  {
   "cell_type": "code",
   "execution_count": null,
   "metadata": {
    "collapsed": false,
    "jupyter": {
     "outputs_hidden": false
    },
    "pycharm": {
     "name": "#%%\n"
    }
   },
   "outputs": [],
   "source": [
    "# load data\n",
    "# Add directory above current directory to path\n",
    "import sys; sys.path.insert(0, '..')\n",
    "#from submodules.load_data import load_data\n",
    "\n",
    "# data manipulation\n",
    "import numpy as np\n",
    "import pandas as pd\n",
    "\n",
    "# data splitting\n",
    "from sklearn.model_selection import train_test_split\n",
    "\n",
    "# data preprocessing\n",
    "from sklearn.pipeline import Pipeline\n",
    "from sklearn.impute import SimpleImputer\n",
    "from sklearn.preprocessing import StandardScaler\n",
    "\n",
    "# model\n",
    "from xgboost import XGBClassifier\n",
    "\n",
    "# hyperparameter tuning\n",
    "from sklearn.model_selection import RepeatedKFold\n",
    "from sklearn.model_selection import RandomizedSearchCV\n",
    "\n",
    "# k-fold cross validation\n",
    "from sklearn.model_selection import cross_validate\n",
    "\n",
    "# saving models\n",
    "import joblib\n",
    "\n",
    "# performance\n",
    "from sklearn.metrics import plot_confusion_matrix\n",
    "from sklearn.metrics import plot_precision_recall_curve\n",
    "import matplotlib.pyplot as plt\n"
   ]
  },
  {
   "cell_type": "markdown",
   "metadata": {},
   "source": [
    "# Load the data"
   ]
  },
  {
   "cell_type": "code",
   "execution_count": null,
   "metadata": {
    "collapsed": false,
    "jupyter": {
     "outputs_hidden": false
    },
    "pycharm": {
     "name": "#%%\n"
    }
   },
   "outputs": [],
   "source": [
    "with open(\"../data/transform/X_train_prepared.csv\") as file_name:\n",
    "    X_train_prepared = np.loadtxt(file_name, delimiter=\",\")\n",
    "\n",
    "with open(\"../data/transform/X_train_prepared_m.csv\") as file_name:\n",
    "    X_train_prepared_m = np.loadtxt(file_name, delimiter=\",\")\n",
    "    \n",
    "with open(\"../data/transform/y_train.csv\") as file_name:\n",
    "    y_train = np.loadtxt(file_name, delimiter=\",\")\n",
    "    \n",
    "with open(\"../data/transform/y_test.csv\") as file_name:\n",
    "    y_test = np.loadtxt(file_name, delimiter=\",\")\n",
    "    "
   ]
  },
  {
   "cell_type": "markdown",
   "metadata": {
    "pycharm": {
     "name": "#%% md\n"
    }
   },
   "source": [
    "# Load the model"
   ]
  },
  {
   "cell_type": "code",
   "execution_count": null,
   "metadata": {
    "collapsed": false,
    "jupyter": {
     "outputs_hidden": false
    },
    "pycharm": {
     "name": "#%%\n"
    }
   },
   "outputs": [],
   "source": [
    "# load the model from disk\n",
    "model = joblib.load(\"../models/experiment/xgbc_model.pkl\")"
   ]
  },
  {
   "cell_type": "markdown",
   "metadata": {},
   "source": [
    "# Fine tune the Model with Randomize Search Cross Validation\n",
    "\n",
    "https://xgboost.readthedocs.io/en/latest/parameter.html\n"
   ]
  },
  {
   "cell_type": "code",
   "execution_count": null,
   "metadata": {
    "collapsed": false,
    "jupyter": {
     "outputs_hidden": false
    },
    "pycharm": {
     "name": "#%%\n"
    }
   },
   "outputs": [],
   "source": [
    "print(\"[INFO] setting hyperparameters...\")\n",
    "# general\n",
    "booster = [\"gbtree\", \"dart\",]\n",
    "\n",
    "use_label_encoder = [False]\n",
    "eval_metric = [\"mlogloss\"]\n",
    "# booster\n",
    "eta = [0.1, 0.3, 0.5, 0.7, 0.9, 1.0] # learning rate range [0, 1]\n",
    "min_child_weight = [0, 1, 5, 15]# Used to control over-fitting. Higher values prevent a model from learning relations\n",
    "gamma = [0, 5, 10, 20] # Makes the algorithm conservative\n",
    "max_depth = [3, 4, 5, 6, 7, 8, 9, 10] # Used to control over-fitting as higher depth will allow model to learn relations very specific\n",
    "subsample = [0.5, 0.7, 1] # Lower values make the algorithm more conservative and prevents overfitting but too small values might lead to under-fitting.\n",
    "colsample_bytree = [0.5, 0.7, 1] # Denotes the fraction of columns to be randomly samples for each tree.\n",
    "scale_pos_weight = [1, 2, 3] # A value greater than 0 should be used in case of high class imbalance as it helps in faster convergence\n",
    "tree_method = [\"auto\", \"exact\", \"approx\"]\n",
    "# learning tasks\n",
    "objective = [\"binary:logistic\", \"binary:logitraw\", \"binary:hinge\"]\n",
    "eval_metric = [\"mlogloss\", \"auc\", \"aucpr\"]\n",
    "grid = dict(eta=eta, min_child_weight=min_child_weight, gamma=gamma, max_depth=max_depth, subsample=subsample,\n",
    "            colsample_bytree=colsample_bytree, scale_pos_weight=scale_pos_weight, tree_method=tree_method,\n",
    "            objective=objective, eval_metric=eval_metric)"
   ]
  },
  {
   "cell_type": "code",
   "execution_count": null,
   "metadata": {
    "collapsed": false,
    "jupyter": {
     "outputs_hidden": false
    },
    "pycharm": {
     "name": "#%%\n"
    }
   },
   "outputs": [],
   "source": [
    "# initialize a cross-validation fold and perform a randomized-search\n",
    "# to tune the hyperparameters\n",
    "print(\"[INFO] grid searching over the hyperparameters...\")\n",
    "cvFold = RepeatedKFold(n_splits=10, n_repeats=3, random_state=1)\n",
    "randomSearch = RandomizedSearchCV(estimator=model, n_jobs=-1,\n",
    "\tcv=cvFold, param_distributions=grid,\n",
    "\tscoring=\"f1\", return_train_score=True)\n",
    "#X_train = pipeline.fit_transform(X_train)\n",
    "searchResults = randomSearch.fit(X_train_prepared, y_train)"
   ]
  },
  {
   "cell_type": "code",
   "execution_count": null,
   "metadata": {
    "collapsed": false,
    "jupyter": {
     "outputs_hidden": false
    },
    "pycharm": {
     "name": "#%%\n"
    }
   },
   "outputs": [],
   "source": [
    "# print the best score\n",
    "searchResults.best_score_"
   ]
  },
  {
   "cell_type": "code",
   "execution_count": null,
   "metadata": {
    "collapsed": false,
    "jupyter": {
     "outputs_hidden": false
    },
    "pycharm": {
     "name": "#%%\n"
    }
   },
   "outputs": [],
   "source": [
    "# print the best combination of parameters\n",
    "searchResults.best_params_"
   ]
  },
  {
   "cell_type": "code",
   "execution_count": null,
   "metadata": {
    "collapsed": false,
    "jupyter": {
     "outputs_hidden": false
    },
    "pycharm": {
     "name": "#%%\n"
    }
   },
   "outputs": [],
   "source": [
    "# print the best estimator directly\n",
    "searchResults.best_estimator_"
   ]
  },
  {
   "cell_type": "code",
   "execution_count": null,
   "metadata": {
    "collapsed": false,
    "jupyter": {
     "outputs_hidden": false
    },
    "pycharm": {
     "name": "#%%\n"
    }
   },
   "outputs": [],
   "source": [
    "# confusion matrix with best_estimator_\n",
    "title = \"XGBC Confusion Matrix\"\n",
    "fig, ax = plt.subplots(figsize=(6, 6))\n",
    "disp = plot_confusion_matrix(searchResults.best_estimator_, X_train_prepared, y_train, cmap=\"binary\", ax=ax)\n",
    "disp.ax_.set_title(title)\n",
    "print(title)\n",
    "print(disp.confusion_matrix)\n",
    "plt.savefig(\"../reports/figures/tune/xgbc_cm.png\")"
   ]
  },
  {
   "cell_type": "markdown",
   "metadata": {
    "pycharm": {
     "name": "#%% md\n"
    }
   },
   "source": [
    "# Serialize the Model"
   ]
  },
  {
   "cell_type": "code",
   "execution_count": 13,
   "metadata": {
    "collapsed": false,
    "jupyter": {
     "outputs_hidden": false
    },
    "pycharm": {
     "name": "#%%\n"
    }
   },
   "outputs": [
    {
     "data": {
      "text/plain": [
       "['../models/tune/xgbc_model.pkl']"
      ]
     },
     "execution_count": 13,
     "metadata": {},
     "output_type": "execute_result"
    }
   ],
   "source": [
    "# serialize the model\n",
    "joblib.dump(searchResults.best_estimator_, \"../models/tune/xgbc_model.pkl\", compress=('bz2', 3))"
   ]
  },
  {
   "cell_type": "markdown",
   "metadata": {
    "pycharm": {
     "name": "#%% md\n"
    }
   },
   "source": [
    "# Load the model"
   ]
  },
  {
   "cell_type": "code",
   "execution_count": 14,
   "metadata": {
    "collapsed": false,
    "jupyter": {
     "outputs_hidden": false
    },
    "pycharm": {
     "name": "#%%\n"
    }
   },
   "outputs": [],
   "source": [
    "# load the model from disk\n",
    "model = joblib.load(\"../models/tune/xgbc_model.pkl\")"
   ]
  },
  {
   "cell_type": "markdown",
   "metadata": {
    "pycharm": {
     "name": "#%% md\n"
    }
   },
   "source": [
    "# Test the Model"
   ]
  },
  {
   "cell_type": "code",
   "execution_count": 15,
   "metadata": {
    "collapsed": false,
    "jupyter": {
     "outputs_hidden": false
    },
    "pycharm": {
     "name": "#%%\n"
    }
   },
   "outputs": [],
   "source": [
    "X_test_prepared = pipeline.transform(X_test)"
   ]
  },
  {
   "cell_type": "markdown",
   "metadata": {},
   "source": [
    "#### Confusion Matrix"
   ]
  },
  {
   "cell_type": "code",
   "execution_count": 16,
   "metadata": {
    "collapsed": false,
    "jupyter": {
     "outputs_hidden": false
    },
    "pycharm": {
     "name": "#%%\n"
    }
   },
   "outputs": [
    {
     "name": "stdout",
     "output_type": "stream",
     "text": [
      "XGBC Confusion Matrix\n",
      "[[6546  186]\n",
      " [ 242  287]]\n"
     ]
    },
    {
     "data": {
      "image/png": "[encoded data removed]",
      "text/plain": [
       "<Figure size 432x432 with 2 Axes>"
      ]
     },
     "metadata": {
      "needs_background": "light"
     },
     "output_type": "display_data"
    }
   ],
   "source": [
    "# https://scikit-learn.org/stable/auto_examples/model_selection/plot_confusion_matrix.html#sphx-glr-auto-examples-model-selection-plot-confusion-matrix-py\n",
    "# https://matplotlib.org/stable/tutorials/colors/colormaps.html\n",
    "\n",
    "title = \"XGBC Confusion Matrix\"\n",
    "fig, ax = plt.subplots(figsize=(6, 6))\n",
    "disp = plot_confusion_matrix(model, X_test_prepared, y_test, cmap=\"binary\", ax=ax)\n",
    "disp.ax_.set_title(title)\n",
    "print(title)\n",
    "print(disp.confusion_matrix)\n",
    "plt.savefig(\"../reports/figures/final/xgbc_cm.png\")"
   ]
  },
  {
   "cell_type": "markdown",
   "metadata": {},
   "source": [
    "#### Precision Recall Curve"
   ]
  },
  {
   "cell_type": "code",
   "execution_count": 17,
   "metadata": {
    "collapsed": false,
    "jupyter": {
     "outputs_hidden": false
    },
    "pycharm": {
     "name": "#%%\n"
    }
   },
   "outputs": [
    {
     "name": "stdout",
     "output_type": "stream",
     "text": [
      "XGBC Precision Recall Curve\n",
      "0.6139634811335377\n"
     ]
    },
    {
     "data": {
      "image/png": "[encoded data removed]",
      "text/plain": [
       "<Figure size 432x432 with 1 Axes>"
      ]
     },
     "metadata": {
      "needs_background": "light"
     },
     "output_type": "display_data"
    }
   ],
   "source": [
    "# computes a precision-recall curve from the ground truth label and a score given\n",
    "# by the classifier by varying a decision threshold\n",
    "title = \"XGBC Precision Recall Curve\"\n",
    "fig, ax = plt.subplots(figsize=(6, 6))\n",
    "disp = plot_precision_recall_curve(model, X_test_prepared, y_test, ax=ax)\n",
    "disp.ax_.set_title(title)\n",
    "print(title)\n",
    "print(disp.average_precision)\n",
    "#disp.ax_.set_title('Precision-Recall curve')\n",
    "plt.savefig(\"../reports/figures/final/xgbc_prc.png\")"
   ]
  },
  {
   "cell_type": "code",
   "execution_count": 18,
   "metadata": {
    "collapsed": false,
    "jupyter": {
     "outputs_hidden": false
    },
    "pycharm": {
     "name": "#%%\n"
    }
   },
   "outputs": [
    {
     "data": {
      "text/plain": [
       "['../models/final/xgbc_model.pkl']"
      ]
     },
     "execution_count": 18,
     "metadata": {},
     "output_type": "execute_result"
    }
   ],
   "source": [
    "# serialize the model\n",
    "joblib.dump(model, \"../models/final/xgbc_model.pkl\", compress=('bz2', 3))"
   ]
  },
  {
   "cell_type": "code",
   "execution_count": 18,
   "metadata": {
    "collapsed": false,
    "jupyter": {
     "outputs_hidden": false
    },
    "pycharm": {
     "name": "#%%\n"
    }
   },
   "outputs": [],
   "source": [
    "\n",
    "\n"
   ]
  }
 ],
 "metadata": {
  "kernelspec": {
   "display_name": "Python 3 (ipykernel)",
   "language": "python",
   "name": "python3"
  },
  "language_info": {
   "codemirror_mode": {
    "name": "ipython",
    "version": 3
   },
   "file_extension": ".py",
   "mimetype": "text/x-python",
   "name": "python",
   "nbconvert_exporter": "python",
   "pygments_lexer": "ipython3",
   "version": "3.8.8"
  }
 },
 "nbformat": 4,
 "nbformat_minor": 4
}
